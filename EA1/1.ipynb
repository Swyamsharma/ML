{
 "cells": [
  {
   "cell_type": "code",
   "execution_count": 80,
   "metadata": {},
   "outputs": [
    {
     "name": "stdout",
     "output_type": "stream",
     "text": [
      "   Size  Bedrooms  Age  Distance  Price\n",
      "0  1825         3   33        13  17612\n",
      "1   513         1   63         1   5370\n",
      "2   892         2    1        27   6394\n",
      "3  1707         4   40        18  15605\n",
      "4   703         2   28        19   5559\n",
      "5   957         4   65        11   8318\n",
      "6   636         2   61        18   5029\n",
      "7  1032         2   24        15   8758\n",
      "8   877         1   73         7   7820\n",
      "9  1071         1    5        15   9248\n"
     ]
    }
   ],
   "source": [
    "import pandas as pd\n",
    "import numpy as np\n",
    "import random\n",
    "num_houses = 10\n",
    "\n",
    "sizes = np.random.randint(500, 2000, num_houses) \n",
    "bedrooms = np.random.randint(1, 6, num_houses)  \n",
    "ages = np.random.randint(0, 100, num_houses)      \n",
    "distances = np.random.randint(1, 30, num_houses) \n",
    "prices = sizes*10+bedrooms*100+ages*(-10)+distances*(-100)+np.random.randint(-100, 1000, num_houses)\n",
    "\n",
    "data = {\n",
    "    'Size': sizes,\n",
    "    'Bedrooms': bedrooms,\n",
    "    'Age': ages,\n",
    "    'Distance': distances,\n",
    "    'Price': prices\n",
    "}\n",
    "df = pd.DataFrame(data)\n",
    "print(df)\n",
    "df.to_csv('house_prices.csv', index=False)"
   ]
  },
  {
   "cell_type": "code",
   "execution_count": 283,
   "metadata": {},
   "outputs": [
    {
     "name": "stdout",
     "output_type": "stream",
     "text": [
      "   Size  Bedrooms  Age  Distance  Price\n",
      "0  1825         3   33        13  17612\n",
      "1   513         1   63         1   5370\n",
      "2   892         2    1        27   6394\n",
      "3  1707         4   40        18  15605\n",
      "4   703         2   28        19   5559\n",
      "5   957         4   65        11   8318\n",
      "6   636         2   61        18   5029\n",
      "7  1032         2   24        15   8758\n",
      "8   877         1   73         7   7820\n",
      "9  1071         1    5        15   9248\n"
     ]
    }
   ],
   "source": [
    "dataset = pd.read_csv('house_prices.csv')\n",
    "print(dataset)"
   ]
  },
  {
   "cell_type": "code",
   "execution_count": 288,
   "metadata": {},
   "outputs": [],
   "source": [
    "def train_test_split(X, y, test_size):\n",
    "    split_index = int(len(X) * (1 - test_size))\n",
    "    return X[:split_index], X[split_index:], y[:split_index], y[split_index:]\n",
    "dataset['Size'] = dataset['Size']/dataset['Size'].max()\n",
    "dataset['Bedrooms'] = dataset['Bedrooms']/dataset['Bedrooms'].max()\n",
    "dataset['Age'] = dataset['Age']/dataset['Age'].max()\n",
    "dataset['Distance'] = dataset['Distance']/dataset['Distance'].max()\n",
    "price_max = dataset['Price'].max()\n",
    "dataset['Price'] = dataset['Price']/dataset['Price'].max()"
   ]
  },
  {
   "cell_type": "code",
   "execution_count": 303,
   "metadata": {},
   "outputs": [
    {
     "name": "stdout",
     "output_type": "stream",
     "text": [
      "0.000241114917809163\n",
      "2603.6276406739994\n"
     ]
    }
   ],
   "source": [
    "X = dataset[['Size', 'Bedrooms', 'Age', 'Distance']].values\n",
    "y = dataset['Price'].values\n",
    "X = np.c_[np.ones(X.shape[0]), X]\n",
    "weights = np.random.randn(X.shape[1])\n",
    "learning_rate = 0.01\n",
    "num_iterations = 1000\n",
    "def gradient_descent(X, y, weights, learning_rate=0.01, num_iterations=1000):\n",
    "    n = len(y)\n",
    "    for _ in range(num_iterations):\n",
    "        y_pred = np.dot(X, weights)\n",
    "        gradient = np.dot(X.T, y_pred - y) / n\n",
    "        weights = weights - learning_rate * gradient\n",
    "    return weights\n",
    "\n",
    "def mean_squared_error(X, y, weights):\n",
    "    y_pred = np.dot(X, weights)\n",
    "    return np.mean((y - y_pred) ** 2)\n",
    "train_x, val_x, train_y, val_y = train_test_split(X, y, 0.3)\n",
    "best_val_mse = float('inf')\n",
    "best_alpha = None\n",
    "for alphas in [0.01, 0.1, 0.5, 1]:\n",
    "    weight1 = gradient_descent(train_x, train_y, weights, learning_rate=alphas)\n",
    "    val_mse = mean_squared_error(val_x, val_y, weight1)\n",
    "    if val_mse < best_val_mse:\n",
    "        best_val_mse = val_mse\n",
    "        best_alpha = alphas\n",
    "weights = gradient_descent(X, y, weights, learning_rate=best_alpha)\n",
    "print(mean_squared_error(X, y, weights))\n",
    "test = [1, 2500, 4, 10, 5]\n",
    "print(np.dot(test, weights))"
   ]
  }
 ],
 "metadata": {
  "kernelspec": {
   "display_name": ".venv",
   "language": "python",
   "name": "python3"
  },
  "language_info": {
   "codemirror_mode": {
    "name": "ipython",
    "version": 3
   },
   "file_extension": ".py",
   "mimetype": "text/x-python",
   "name": "python",
   "nbconvert_exporter": "python",
   "pygments_lexer": "ipython3",
   "version": "3.12.5"
  }
 },
 "nbformat": 4,
 "nbformat_minor": 2
}
