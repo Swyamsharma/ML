{
 "cells": [
  {
   "cell_type": "code",
   "execution_count": 1,
   "metadata": {},
   "outputs": [
    {
     "name": "stdout",
     "output_type": "stream",
     "text": [
      "       X1    X2\n",
      "0     1.0   2.0\n",
      "1     1.5   1.8\n",
      "2     5.0   8.0\n",
      "3     8.0   8.0\n",
      "4     1.0   0.6\n",
      "..    ...   ...\n",
      "105   8.9  10.4\n",
      "106   7.9   2.9\n",
      "107  10.9   2.9\n",
      "108   9.9   3.9\n",
      "109   5.9   5.4\n",
      "\n",
      "[110 rows x 2 columns]\n"
     ]
    }
   ],
   "source": [
    "import numpy as np\n",
    "import pandas as pd\n",
    "import random\n",
    "\n",
    "data = pd.read_csv('data.csv')\n",
    "print(data)"
   ]
  },
  {
   "cell_type": "code",
   "execution_count": 9,
   "metadata": {},
   "outputs": [
    {
     "name": "stdout",
     "output_type": "stream",
     "text": [
      "K-Means Clustering Results:\n",
      "Centroids: [[0.63550323 0.73130194]\n",
      " [0.81605529 0.24455077]\n",
      " [0.20850202 0.20062978]]\n",
      "Clusters: [[2, 3, 5, 12, 13, 15, 22, 23, 25, 29, 32, 33, 35, 42, 43, 45, 49, 52, 53, 55, 62, 63, 65, 69, 72, 73, 75, 82, 83, 85, 89, 92, 93, 95, 102, 103, 105, 109], [6, 7, 8, 16, 17, 18, 26, 27, 28, 36, 37, 38, 46, 47, 48, 56, 57, 58, 66, 67, 68, 76, 77, 78, 86, 87, 88, 96, 97, 98, 106, 107, 108], [0, 1, 4, 9, 10, 11, 14, 19, 20, 21, 24, 30, 31, 34, 39, 40, 41, 44, 50, 51, 54, 59, 60, 61, 64, 70, 71, 74, 79, 80, 81, 84, 90, 91, 94, 99, 100, 101, 104]]\n",
      "K-Medoids Clustering Results:\n",
      "Medoids: [[0.64035088 0.68421053]\n",
      " [0.79824561 0.27192982]\n",
      " [0.14035088 0.14035088]]\n",
      "Clusters: [[2, 3, 5, 12, 13, 15, 22, 23, 25, 29, 32, 33, 35, 42, 43, 45, 49, 52, 53, 55, 62, 63, 65, 69, 72, 73, 75, 79, 82, 83, 85, 89, 92, 93, 95, 99, 102, 103, 105, 109], [6, 7, 8, 16, 17, 18, 19, 26, 27, 28, 36, 37, 38, 39, 46, 47, 48, 56, 57, 58, 59, 66, 67, 68, 76, 77, 78, 86, 87, 88, 96, 97, 98, 106, 107, 108], [0, 1, 4, 9, 10, 11, 14, 20, 21, 24, 30, 31, 34, 40, 41, 44, 50, 51, 54, 60, 61, 64, 70, 71, 74, 80, 81, 84, 90, 91, 94, 100, 101, 104]]\n"
     ]
    }
   ],
   "source": [
    "X = data.values\n",
    "X = X / X.max()\n",
    "\n",
    "def euclidean_distance(a, b):\n",
    "    return np.sqrt(np.sum((a - b) ** 2))\n",
    "\n",
    "def kmeans(X, k, max_iters=100):\n",
    "    n_samples, n_features = X.shape\n",
    "    centroids = X[np.random.choice(n_samples, k, replace=False)]\n",
    "    for _ in range(max_iters):\n",
    "        clusters = [[] for _ in range(k)]\n",
    "        for idx, sample in enumerate(X):\n",
    "            distances = [euclidean_distance(sample, point) for point in centroids]\n",
    "            cluster_idx = np.argmin(distances)\n",
    "            clusters[cluster_idx].append(idx)\n",
    "        new_centroids = np.array([np.mean(X[cluster], axis=0) for cluster in clusters])\n",
    "        if np.all(centroids == new_centroids):\n",
    "            break\n",
    "        centroids = new_centroids\n",
    "    return centroids, clusters\n",
    "\n",
    "def kmedoids(X, k, max_iters=100):\n",
    "    n_samples = X.shape[0]\n",
    "    medoids = X[np.random.choice(n_samples, k, replace=False)]\n",
    "    for _ in range(max_iters):\n",
    "        clusters = [[] for _ in range(k)]\n",
    "        for idx, sample in enumerate(X):\n",
    "            distances = [euclidean_distance(sample, point) for point in medoids]\n",
    "            cluster_idx = np.argmin(distances)\n",
    "            clusters[cluster_idx].append(idx)\n",
    "        new_medoids = np.array([X[cluster][np.argmin([np.sum([euclidean_distance(X[i], X[j]) for j in cluster]) for i in cluster])] for cluster in clusters])\n",
    "        if np.all(medoids == new_medoids):\n",
    "            break\n",
    "        medoids = new_medoids\n",
    "    return medoids, clusters\n",
    "\n",
    "k = 3\n",
    "centroids, clusters = kmeans(X, k)\n",
    "print(\"K-Means Clustering Results:\")\n",
    "print(\"Centroids:\", centroids)\n",
    "print(\"Clusters:\", clusters)\n",
    "\n",
    "medoids, clusters = kmedoids(X, k)\n",
    "print(\"K-Medoids Clustering Results:\")\n",
    "print(\"Medoids:\", medoids)\n",
    "print(\"Clusters:\", clusters)"
   ]
  }
 ],
 "metadata": {
  "kernelspec": {
   "display_name": ".venv",
   "language": "python",
   "name": "python3"
  },
  "language_info": {
   "codemirror_mode": {
    "name": "ipython",
    "version": 3
   },
   "file_extension": ".py",
   "mimetype": "text/x-python",
   "name": "python",
   "nbconvert_exporter": "python",
   "pygments_lexer": "ipython3",
   "version": "3.12.6"
  }
 },
 "nbformat": 4,
 "nbformat_minor": 2
}
