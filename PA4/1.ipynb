{
 "cells": [
  {
   "cell_type": "code",
   "execution_count": 57,
   "metadata": {},
   "outputs": [
    {
     "name": "stdout",
     "output_type": "stream",
     "text": [
      "    0   1\n",
      "0   1   2\n",
      "1   2   4\n",
      "2   3   6\n",
      "3   4   8\n",
      "4   5  10\n",
      "5   6  12\n",
      "6   7  14\n",
      "7   8  15\n",
      "8   9  16\n",
      "9  10  20\n"
     ]
    }
   ],
   "source": [
    "import pandas as pd\n",
    "import numpy as np\n",
    "import matplotlib.pyplot as plt\n",
    "dataset = pd.DataFrame(columns=[0, 1])\n",
    "for i in range(1, 8):\n",
    "    new_value = ([i, 2*i])\n",
    "    new_row = pd.DataFrame([new_value], columns=dataset.columns)\n",
    "    dataset = pd.concat([dataset, new_row], ignore_index=True)\n",
    "dataset = pd.concat([dataset, pd.DataFrame([[8, 15], [9, 16], [10, 20]], columns=dataset.columns)], ignore_index=True)\n",
    "print(dataset)"
   ]
  },
  {
   "cell_type": "code",
   "execution_count": 58,
   "metadata": {},
   "outputs": [],
   "source": [
    "x = dataset[0]\n",
    "y = dataset[1]\n",
    "train_x, train_y = x[:6], y[:6]\n",
    "val_x, val_y = x[6:8], y[6:8]\n",
    "test_x, test_y = x[8:], y[8:]"
   ]
  },
  {
   "cell_type": "code",
   "execution_count": 59,
   "metadata": {},
   "outputs": [],
   "source": [
    "def gradient_descent(x, y, learning_rate=0.01, iterations=1000):\n",
    "    w1 = 0\n",
    "    w0 = 0\n",
    "    n = len(x)\n",
    "    \n",
    "    for _ in range(iterations):\n",
    "        y_pred = w1 * x + w0\n",
    "        dw1 = (-2/n) * sum(x * (y - y_pred))\n",
    "        dw0 = (-2/n) * sum(y - y_pred)\n",
    "        w1 = w1 - learning_rate * dw1\n",
    "        w0 = w0 - learning_rate * dw0\n",
    "    \n",
    "    return w1, w0"
   ]
  },
  {
   "cell_type": "code",
   "execution_count": 60,
   "metadata": {},
   "outputs": [
    {
     "name": "stdout",
     "output_type": "stream",
     "text": [
      "Alpha: 0.01, Validation MSE: 0.49013547353664205\n",
      "Alpha: 0.1, Validation MSE: nan\n",
      "Alpha: 0.5, Validation MSE: nan\n",
      "Alpha: 1, Validation MSE: nan\n",
      "Validation MSE: 0.49013547353664205\n"
     ]
    }
   ],
   "source": [
    "\n",
    "def mean_squared_error(x, y, w1, w0):\n",
    "    y_pred = w1 * x + w0\n",
    "    return np.mean((y - y_pred) ** 2)\n",
    "best_val_mse = float('inf')\n",
    "best_alpha = None\n",
    "for alphas in [0.01, 0.1, 0.5, 1]:\n",
    "    w1, w0 = gradient_descent(train_x, train_y, learning_rate=alphas)\n",
    "    val_mse = mean_squared_error(val_x, val_y, w1, w0)\n",
    "    if val_mse < best_val_mse:\n",
    "        best_val_mse = val_mse\n",
    "        best_alpha = alphas\n",
    "    print(f'Alpha: {alphas}, Validation MSE: {val_mse}')\n",
    "w1, w0 = gradient_descent(train_x, train_y, learning_rate=best_alpha)\n",
    "print(f'Validation MSE: {best_val_mse}')"
   ]
  },
  {
   "cell_type": "code",
   "execution_count": 61,
   "metadata": {},
   "outputs": [
    {
     "name": "stdout",
     "output_type": "stream",
     "text": [
      "Final parameters: w1 = 1.9973270047430611, w0 = 0.011443623283825059\n"
     ]
    }
   ],
   "source": [
    "print(f'Final parameters: w1 = {w1}, w0 = {w0}')"
   ]
  },
  {
   "cell_type": "code",
   "execution_count": 62,
   "metadata": {},
   "outputs": [
    {
     "name": "stdout",
     "output_type": "stream",
     "text": [
      "Test MSE: 1.9749697159719217\n"
     ]
    }
   ],
   "source": [
    "test_mse = mean_squared_error(test_x, test_y, w1, w0)\n",
    "print(f'Test MSE: {test_mse}')"
   ]
  }
 ],
 "metadata": {
  "kernelspec": {
   "display_name": "MLenv",
   "language": "python",
   "name": "python3"
  },
  "language_info": {
   "codemirror_mode": {
    "name": "ipython",
    "version": 3
   },
   "file_extension": ".py",
   "mimetype": "text/x-python",
   "name": "python",
   "nbconvert_exporter": "python",
   "pygments_lexer": "ipython3",
   "version": "3.12.5"
  }
 },
 "nbformat": 4,
 "nbformat_minor": 2
}
