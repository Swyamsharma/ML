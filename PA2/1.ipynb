{
 "cells": [
  {
   "cell_type": "code",
   "execution_count": 71,
   "metadata": {},
   "outputs": [],
   "source": [
    "import random\n",
    "import pandas as pd\n",
    "random.seed(69)\n",
    "dataset = pd.DataFrame(columns=[0, 1])\n",
    "for i in range(30):\n",
    "    new_value = ([random.randint(0, 10), random.randint(100, 200)])\n",
    "    new_row = pd.DataFrame([new_value], columns=dataset.columns)\n",
    "    dataset = pd.concat([dataset, new_row], ignore_index=True)"
   ]
  },
  {
   "cell_type": "code",
   "execution_count": 72,
   "metadata": {},
   "outputs": [
    {
     "name": "stdout",
     "output_type": "stream",
     "text": [
      "    0    1\n",
      "0  10  104\n",
      "1   1  121\n",
      "2   1  177\n",
      "3   5  141\n",
      "4   8  153\n",
      "number of rows: 30\n",
      "number of columns: 2\n",
      "range of each features value: 0 - 10\n"
     ]
    }
   ],
   "source": [
    "print(dataset[:5])\n",
    "print(f\"number of rows: {dataset.shape[0]}\")\n",
    "print(f\"number of columns: {dataset.shape[1]}\")\n",
    "print(f\"range of each features value: {dataset[0].min()} - {dataset[0].max()}\")"
   ]
  },
  {
   "cell_type": "code",
   "execution_count": 73,
   "metadata": {},
   "outputs": [
    {
     "name": "stdout",
     "output_type": "stream",
     "text": [
      "train size: 21, test size: 9\n",
      "train data:     0    1\n",
      "0  10  104\n",
      "1   1  121\n",
      "2   1  177\n",
      "3   5  141\n",
      "4   8  153\n",
      "test data:     0    1\n",
      "21  0  108\n",
      "22  1  127\n",
      "23  0  118\n",
      "24  3  131\n",
      "25  4  119\n",
      "\n",
      "train size: 24, test size: 6\n",
      "train data:     0    1\n",
      "0  10  104\n",
      "1   1  121\n",
      "2   1  177\n",
      "3   5  141\n",
      "4   8  153\n",
      "test data:     0    1\n",
      "24  3  131\n",
      "25  4  119\n",
      "26  7  180\n",
      "27  1  189\n",
      "28  5  181\n",
      "\n",
      "train size: 27, test size: 3\n",
      "train data:     0    1\n",
      "0  10  104\n",
      "1   1  121\n",
      "2   1  177\n",
      "3   5  141\n",
      "4   8  153\n",
      "test data:     0    1\n",
      "27  1  189\n",
      "28  5  181\n",
      "29  4  168\n",
      "\n"
     ]
    }
   ],
   "source": [
    "def split_dataset(data, train_ratio):\n",
    "    train_size = int(len(data) * train_ratio)\n",
    "    train_data = data[:train_size]\n",
    "    test_data = data[train_size:]\n",
    "    return train_data, test_data\n",
    "\n",
    "ratios = [0.7, 0.8, 0.9]\n",
    "for ratio in ratios:\n",
    "    train_data, test_data = split_dataset(dataset, ratio)\n",
    "    print(f\"train size: {train_data.shape[0]}, test size: {test_data.shape[0]}\")\n",
    "    print(f\"train data: {train_data[:5]}\")\n",
    "    print(f\"test data: {test_data[:5]}\")\n",
    "    print(\"\")"
   ]
  },
  {
   "cell_type": "code",
   "execution_count": 78,
   "metadata": {},
   "outputs": [
    {
     "name": "stdout",
     "output_type": "stream",
     "text": [
      "Test size: 0.7, MSE: 716.8159248495953\n",
      "Test size: 0.8, MSE: 665.6828932181766\n",
      "Test size: 0.9, MSE: 1777.790793404864\n",
      "Best split: 0.8, Best MSE: 665.6828932181766\n"
     ]
    }
   ],
   "source": [
    "import pandas as pd\n",
    "\n",
    "data = dataset\n",
    "\n",
    "X = data[0].tolist()\n",
    "y = data[1].tolist()\n",
    "\n",
    "def train_test_split(X, y, test_size):\n",
    "    split_index = int(len(X) * (1 - test_size))\n",
    "    return X[:split_index], X[split_index:], y[:split_index], y[split_index:]\n",
    "\n",
    "def calculate_coefficients(X, y):\n",
    "    n = len(X)\n",
    "    mean_x, mean_y = sum(X) / n, sum(y) / n\n",
    "    SS_xy = sum((y[i] * X[i]) - n * mean_y * mean_x for i in range(n))\n",
    "    SS_xx = sum((X[i] * X[i])  - n * mean_y * mean_x for i in range(n))\n",
    "    w1 = SS_xy / SS_xx\n",
    "    w0 = mean_y - w1 * mean_x\n",
    "    return w1, w0\n",
    "\n",
    "def predict(X, w1, w0):\n",
    "    return [w1 * x + w0 for x in X]\n",
    "\n",
    "def mean_squared_error(y_true, y_pred):\n",
    "    return sum((y_true[i] - y_pred[i]) ** 2 for i in range(len(y_true))) / len(y_true)\n",
    "\n",
    "splits = [0.7, 0.8, 0.9]\n",
    "best_split = None\n",
    "best_mse = float('inf')\n",
    "\n",
    "for split in splits:\n",
    "    X_train, X_test, y_train, y_test = train_test_split(X, y, test_size=split)\n",
    "    w1, w0 = calculate_coefficients(X_train, y_train)\n",
    "    y_pred = predict(X_test, w1, w0)\n",
    "    mse = mean_squared_error(y_test, y_pred)\n",
    "    print(f\"Test size: {split}, MSE: {mse}\")\n",
    "    if mse < best_mse:\n",
    "        best_mse = mse\n",
    "        best_split = split\n",
    "\n",
    "print(f\"Best split: {best_split}, Best MSE: {best_mse}\")"
   ]
  }
 ],
 "metadata": {
  "kernelspec": {
   "display_name": "Python 3",
   "language": "python",
   "name": "python3"
  },
  "language_info": {
   "codemirror_mode": {
    "name": "ipython",
    "version": 3
   },
   "file_extension": ".py",
   "mimetype": "text/x-python",
   "name": "python",
   "nbconvert_exporter": "python",
   "pygments_lexer": "ipython3",
   "version": "3.12.4"
  }
 },
 "nbformat": 4,
 "nbformat_minor": 2
}
