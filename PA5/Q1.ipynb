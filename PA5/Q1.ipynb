{
 "cells": [
  {
   "cell_type": "code",
   "execution_count": 230,
   "metadata": {},
   "outputs": [
    {
     "name": "stdout",
     "output_type": "stream",
     "text": [
      "     Age  MonthlyCharges Contract Type  Tenure  Churn\n",
      "0     44             667       prepaid       4      1\n",
      "1     48            1506      postpaid      40      0\n",
      "2     61            1362      postpaid      48      0\n",
      "3     67             684      postpaid      37      0\n",
      "4     59             476       prepaid      43      0\n",
      "..   ...             ...           ...     ...    ...\n",
      "995   43            1153       prepaid      48      0\n",
      "996   62            1044       prepaid       3      0\n",
      "997   41             828      postpaid      24      1\n",
      "998   41             965       prepaid      10      1\n",
      "999   28             577       prepaid      14      0\n",
      "\n",
      "[1000 rows x 5 columns]\n"
     ]
    }
   ],
   "source": [
    "import pandas as pd\n",
    "import numpy as np\n",
    "import random\n",
    "dataset = pd.read_csv('dataset.csv', index_col=0)\n",
    "print(dataset)"
   ]
  },
  {
   "cell_type": "code",
   "execution_count": 231,
   "metadata": {},
   "outputs": [],
   "source": [
    "max_age = dataset['Age'].max()\n",
    "max_monthly_charges = dataset['MonthlyCharges'].max()\n",
    "max_tenure = dataset['Tenure'].max()\n",
    "\n",
    "dataset['Age'] = dataset['Age'] / max_age\n",
    "dataset['MonthlyCharges'] = dataset['MonthlyCharges'] / max_monthly_charges\n",
    "dataset['Tenure'] = dataset['Tenure'] / max_tenure"
   ]
  },
  {
   "cell_type": "code",
   "execution_count": 232,
   "metadata": {},
   "outputs": [
    {
     "name": "stdout",
     "output_type": "stream",
     "text": [
      "          Age  MonthlyCharges Contract Type    Tenure  Churn\n",
      "0    0.637681        0.333667       prepaid  0.083333      1\n",
      "1    0.695652        0.753377      postpaid  0.833333      0\n",
      "2    0.884058        0.681341      postpaid  1.000000      0\n",
      "3    0.971014        0.342171      postpaid  0.770833      0\n",
      "4    0.855072        0.238119       prepaid  0.895833      0\n",
      "..        ...             ...           ...       ...    ...\n",
      "995  0.623188        0.576788       prepaid  1.000000      0\n",
      "996  0.898551        0.522261       prepaid  0.062500      0\n",
      "997  0.594203        0.414207      postpaid  0.500000      1\n",
      "998  0.594203        0.482741       prepaid  0.208333      1\n",
      "999  0.405797        0.288644       prepaid  0.291667      0\n",
      "\n",
      "[1000 rows x 5 columns]\n"
     ]
    }
   ],
   "source": [
    "print(dataset)\n",
    "weights = np.random.randn(4)  # 3 features + 1 bias\n",
    "learning_rate = 0.01\n",
    "num_iterations = 1000"
   ]
  },
  {
   "cell_type": "code",
   "execution_count": 233,
   "metadata": {},
   "outputs": [],
   "source": [
    "def sigmoid(z):\n",
    "    return 1 / (1 + np.exp(-z))\n",
    "\n",
    "def gradient_descent(X, y, weights, learning_rate, num_iterations):\n",
    "    m = len(y)\n",
    "    for i in range(num_iterations):\n",
    "        h = sigmoid(np.dot(X, weights))\n",
    "        gradient = np.dot(X.T, (h - y)) / m\n",
    "        weights -= learning_rate * gradient\n",
    "    return weights"
   ]
  },
  {
   "cell_type": "code",
   "execution_count": 234,
   "metadata": {},
   "outputs": [],
   "source": [
    "def train_test_split(x, y, test_size):\n",
    "    split_index = int(len(x) * (1 - test_size))\n",
    "    return x[:split_index], x[split_index:], y[:split_index], y[split_index:]\n",
    "def accuracy_score(y_true, y_pred):\n",
    "    correct_predictions = np.sum(y_true == y_pred)\n",
    "    total_predictions = len(y_true)\n",
    "    accuracy = correct_predictions / total_predictions\n",
    "    return accuracy\n",
    "\n",
    "def confusion_matrix(y_true, y_pred):\n",
    "    tp = np.sum((y_true == 1) & (y_pred == 1))  # True Positives\n",
    "    tn = np.sum((y_true == 0) & (y_pred == 0))  # True Negatives\n",
    "    fp = np.sum((y_true == 0) & (y_pred == 1))  # False Positives\n",
    "    fn = np.sum((y_true == 1) & (y_pred == 0))  # False Negatives\n",
    "    \n",
    "    return np.array([[tn, fp], [fn, tp]])"
   ]
  },
  {
   "cell_type": "code",
   "execution_count": 235,
   "metadata": {},
   "outputs": [
    {
     "name": "stdout",
     "output_type": "stream",
     "text": [
      "Accuracy: 56.00%\n",
      "Confusion Matrix:\n",
      "[[90 18]\n",
      " [70 22]]\n"
     ]
    }
   ],
   "source": [
    "X = dataset[['Age', 'MonthlyCharges', 'Tenure']].values\n",
    "y = dataset['Churn'].values\n",
    "X = np.c_[np.ones(X.shape[0]), X]\n",
    "optimal_weights = gradient_descent(X, y, weights, learning_rate, num_iterations)\n",
    "def predict(X, weights):\n",
    "    return sigmoid(np.dot(X, weights)) >= 0.5\n",
    "X_train, X_test, y_train, y_test = train_test_split(X, y, test_size=0.2)\n",
    "optimal_weights = gradient_descent(X_train, y_train, weights, learning_rate, num_iterations)\n",
    "y_pred = predict(X_test, optimal_weights)\n",
    "\n",
    "accuracy = accuracy_score(y_test, y_pred)\n",
    "print(f'Accuracy: {accuracy*100:.2f}%')\n",
    "\n",
    "conf_matrix = confusion_matrix(y_test, y_pred)\n",
    "print(f'Confusion Matrix:\\n{conf_matrix}')"
   ]
  }
 ],
 "metadata": {
  "kernelspec": {
   "display_name": ".venv",
   "language": "python",
   "name": "python3"
  },
  "language_info": {
   "codemirror_mode": {
    "name": "ipython",
    "version": 3
   },
   "file_extension": ".py",
   "mimetype": "text/x-python",
   "name": "python",
   "nbconvert_exporter": "python",
   "pygments_lexer": "ipython3",
   "version": "3.12.5"
  }
 },
 "nbformat": 4,
 "nbformat_minor": 2
}
